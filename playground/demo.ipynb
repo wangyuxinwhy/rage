{
 "cells": [
  {
   "cell_type": "code",
   "execution_count": null,
   "metadata": {},
   "outputs": [],
   "source": [
    "from continuous_eval.metrics import LLMBasedAnswerCorrectness\n",
    "from continuous_eval.llm_factory import LLMFactory\n",
    "\n",
    "datum = {\n",
    "    \"question\": \"Who wrote 'Romeo and Juliet'?\",\n",
    "    \"answer\": \"Shakespeare wrote 'Romeo and Juliet'\",\n",
    "    \"ground_truths\": [\n",
    "        \"William Shakespeare wrote 'Romeo and Juliet\",\n",
    "        \"William Shakespeare\",\n",
    "        \"Shakespeare\",\n",
    "        \"Shakespeare is the author of 'Romeo and Juliet'\"\n",
    "    ]\n",
    "}\n",
    "\n",
    "metric = LLMBasedAnswerCorrectness(LLMFactory(\"gpt-4-1106-preview\"))\n",
    "print(metric.calculate(**datum))"
   ]
  },
  {
   "cell_type": "code",
   "execution_count": 3,
   "metadata": {},
   "outputs": [],
   "source": [
    "from rage.core import RageCase\n",
    "from rage.metrics.llm_based.correctness import LLMBasedCorrectness\n",
    "from rage.metrics import LLMBasedContextCoverage\n",
    "\n",
    "import rich\n",
    "\n",
    "case = RageCase(\n",
    "    question=\"我啥时候用了年假？\",\n",
    "    answer=\"你在2023年7月4日请了一天年假，原因是旅行\",\n",
    "    generated_answer='根据你提供的信息，你在2023年7月25日请了1天年假，原因是家中有事；在2023年6月2日上午到下午请了1天年假，原因是旅行。如果你需要查询更详细的假期信息，可以登录公司的HR自助平台或者联系你的直属上级或人力资源部门的HRBP。',\n",
    ")\n",
    "\n",
    "new_case = RageCase(\n",
    "    question=case.question,\n",
    "    answer=case.answer,\n",
    "    retrieved_contexts=[case.generated_answer or ''],\n",
    ")"
   ]
  },
  {
   "cell_type": "code",
   "execution_count": null,
   "metadata": {},
   "outputs": [],
   "source": [
    "from deepeval"
   ]
  },
  {
   "cell_type": "code",
   "execution_count": 4,
   "metadata": {},
   "outputs": [],
   "source": [
    "from rage.metrics import LLMBasedFaithfulness"
   ]
  },
  {
   "cell_type": "code",
   "execution_count": 11,
   "metadata": {},
   "outputs": [],
   "source": [
    "case = RageCase(\n",
    "    question='离职需要交接什么？',\n",
    "    retrieved_contexts=['''以下是从「员工手册」搜索到的结果：\\\\nF．在试用期内，员工未能通过绩效考核；  \\\\nG．在试用期内，员工未能根据岗位职责和公司要求完成工作任务；或  \\\\nH．员工违反了公司规章制度中的任何规定。  \\\\n二、员工离职  \\\\n1. 公司及员工本人均可依法解除或终止劳动合同， 并按照相关规定提前告知，\\\\n对于试用期员工提出者应至少提前 3日，对于转正后正式员工提出者应至少提前\\\\n30日提出离职要求， 由员工所属部门及人力资源部进行离职面谈， 并做相关记录。  \\\\n2. 员工应在发出离职通知或收到离职通知后 3日内或其他公司要求的期限\\\\n内完成离职交接手续，否则应承担公司由此发生的损失。离职交接手续包括 签署\\\\n《解除劳动合同协议》， 填写《离职交接清单》，并附工作交接详细说明，同时由\\\\n员工本人 发起离职审批流程，由相关部门交接人员 及人力资源部 进行逐一签字确\\\\n认。\\\\n以下是从「员工关系管理」搜索到的结果：\\\\n3. 离职面谈 所有全职员工主/被动离职均需进行离职面谈，由部门主管和属地HR在员工提出及确认离职后一周内分别进行。离职面谈需挖掘员工离职真正原因，尽量了解员工对于公司各个方向的真实想法、意见及建议，作为后续离职原因分析的依据。 \\\\n \\\\n杉数人力资源部 \\\\n 4. 离职申请及手续办理 无论因何种原因离职，均应当严格按照以下内容办理离职手续： 1） 员工本人在人事系统提起“离职申请”。 2） 员工离职申请通过且离职面谈结束后，到属地人力资源部领取纸质版《员工离职交接清单》 ，并按照清单所列内容，在合同终止或解除日前，办理完毕工作交接。 《员工离职交接清单》的内容包括但不限于本部门工作交接、PMO交接、财务部交接、行政部交接、IT 管理账号交接、人力资源部相关交接，任何一步未确认视为离职手续未办理完结，离职薪资暂缓结算。\\\\n问题: 离职流程\\\\n回答: 1、离职申请：不同类型员工离职应遵循以下时间及时沟通\\\\n- 试用期内全职员工：至少提前 3 日邮件通知用人部门和人力资源部\\\\n- 已转正全职员工：至少提前 30 日邮件通知用人部门和人力资源部\\\\n- 实习员工：至少提前 7 日邮件通知用人部门和人力资源部\\\\n\\\\n2、离职面谈\\\\n所有全职员工主/被动离职均需进行离职面谈，由部门主管和属地 HR 在员工提出 及确认离职后一周内分别进行\\\\n\\\\n3、离职申请及手续办理\\\\n无论因何种原因离职，均应当严格按照以下内容办理离职手续:\\\\n- 员工本人在人事系统提起“离职申请”。\\\\n- 员工离职申请通过且离职面谈结束后，到属地人力资源部领取纸质版《员工离职交接清单》，并按照清单所列内容，在合同终止或解除日前，办理完毕工作交接。'''],\n",
    "    generated_answer='''离职时需要进行工作交接，具体需要交接的内容可能会根据不同的岗位和部门而有所不同。以下是一些常见的工作交接内容：\n",
    "1. 项目或任务：将正在进行的项目或任务的进展情况、相关文档和资料进行交接，确保接手人能够顺利继续进行工作。\n",
    "2. 文件和资料：交接相关的文件、资料、报告等，包括电子文档和纸质文件，确保接手人能够获得必要的信息和资源。\n",
    "3. 工作流程和操作指南：向接手人介绍工作流程、操作指南、常用工具和系统的使用方法，确保接手人能够顺利进行工作。\n",
    "4. 重要联系人和合作伙伴：提供重要联系人和合作伙伴的联系方式和背景信息，确保接手人能够与他们保持良好的沟通和合作关系。\n",
    "5. 邮件和日程安排：将重要的邮件和日程安排进行交接，确保接手人能够及时处理和跟进相关事务。\n",
    "6. 系统账号和权限：将相关的系统账号和权限进行交接，确保接手人能够正常使用公司的各种系统和工具。\n",
    "7. 其他事项：根据具体岗位和部门的要求，可能还需要交接其他的工作内容，如客户关系、财务事务等。\n",
    "在进行工作交接时，建议制定详细的交接清单，确保所有需要交接的内容都被完整记录和传达给接手人。同时，积极配合接手人的学习和适应过程，提供必要的支持和帮助。''',\n",
    "    answer=''\n",
    ")"
   ]
  },
  {
   "cell_type": "code",
   "execution_count": 18,
   "metadata": {},
   "outputs": [
    {
     "name": "stdout",
     "output_type": "stream",
     "text": [
      "{\"verdict\":\"Yes\",\"reason\":\"The answer is supported by the context, which provides detailed steps and requirements for the resignation process, including the necessity for a handover (交接) of duties, outlined as part of the resignation procedures.\"}\n"
     ]
    },
    {
     "data": {
      "text/html": [
       "<pre style=\"white-space:pre;overflow-x:auto;line-height:normal;font-family:Menlo,'DejaVu Sans Mono',consolas,'Courier New',monospace\"><span style=\"color: #800080; text-decoration-color: #800080; font-weight: bold\">LLMBasedFaithfulnessCaseResult</span><span style=\"font-weight: bold\">(</span><span style=\"color: #808000; text-decoration-color: #808000\">faithfulness</span>=<span style=\"color: #008080; text-decoration-color: #008080; font-weight: bold\">1.0</span><span style=\"font-weight: bold\">)</span>\n",
       "</pre>\n"
      ],
      "text/plain": [
       "\u001b[1;35mLLMBasedFaithfulnessCaseResult\u001b[0m\u001b[1m(\u001b[0m\u001b[33mfaithfulness\u001b[0m=\u001b[1;36m1\u001b[0m\u001b[1;36m.0\u001b[0m\u001b[1m)\u001b[0m\n"
      ]
     },
     "metadata": {},
     "output_type": "display_data"
    }
   ],
   "source": [
    "metric = LLMBasedFaithfulness()\n",
    "metric.llm.model_id = 'baichuan/baichuan-3'\n",
    "rich.print(LLMBasedFaithfulness().calculate(case))"
   ]
  },
  {
   "cell_type": "code",
   "execution_count": 17,
   "metadata": {},
   "outputs": [
    {
     "data": {
      "text/plain": [
       "<generate.chat_completion.models.zhipu.ZhipuChat at 0x117499a00>"
      ]
     },
     "execution_count": 17,
     "metadata": {},
     "output_type": "execute_result"
    }
   ],
   "source": [
    "metric.llm.model"
   ]
  },
  {
   "cell_type": "code",
   "execution_count": null,
   "metadata": {},
   "outputs": [],
   "source": [
    "rich.print(LLMBasedContextCoverage().calculate(new_case))"
   ]
  },
  {
   "cell_type": "code",
   "execution_count": 24,
   "metadata": {},
   "outputs": [],
   "source": [
    "from pydantic import create_model, Field\n",
    "from typing import Literal"
   ]
  },
  {
   "cell_type": "code",
   "execution_count": 29,
   "metadata": {},
   "outputs": [
    {
     "data": {
      "text/plain": [
       "{'question': FieldInfo(annotation=Literal['2', '4'], required=True, description='only df')}"
      ]
     },
     "execution_count": 29,
     "metadata": {},
     "output_type": "execute_result"
    }
   ],
   "source": [
    "a = ['2', '4']\n",
    "create_model(\n",
    "    'MyModel',\n",
    "    question=(Literal[*a], Field(description='only df')),\n",
    ").model_fields"
   ]
  }
 ],
 "metadata": {
  "kernelspec": {
   "display_name": "py312",
   "language": "python",
   "name": "python3"
  },
  "language_info": {
   "codemirror_mode": {
    "name": "ipython",
    "version": 3
   },
   "file_extension": ".py",
   "mimetype": "text/x-python",
   "name": "python",
   "nbconvert_exporter": "python",
   "pygments_lexer": "ipython3",
   "version": "3.12.1"
  }
 },
 "nbformat": 4,
 "nbformat_minor": 2
}
