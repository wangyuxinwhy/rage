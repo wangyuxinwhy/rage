{
 "cells": [
  {
   "cell_type": "code",
   "execution_count": 1,
   "metadata": {},
   "outputs": [
    {
     "name": "stderr",
     "output_type": "stream",
     "text": [
      "/Users/wangyuxin/opt/miniconda3/envs/py312/lib/python3.12/site-packages/pydantic/_internal/_fields.py:128: UserWarning: Field \"model_id\" has conflict with protected namespace \"model_\".\n",
      "\n",
      "You may be able to resolve this warning by setting `model_config['protected_namespaces'] = ()`.\n",
      "  warnings.warn(\n"
     ]
    }
   ],
   "source": [
    "from rage.models import RageClassifier, ClassifierOutput, RageExtractor\n",
    "from rage.case import RageExample, RageCase\n",
    "from rage.template import SimpleCaseTemplate\n",
    "from rage.metrics import GenerateBasedContextPrecision\n",
    "from pydantic import BaseModel, RootModel"
   ]
  },
  {
   "cell_type": "code",
   "execution_count": 4,
   "metadata": {},
   "outputs": [],
   "source": [
    "case = RageCase(\n",
    "    question=\"What is the capital of France?\",\n",
    "    retrieved_contexts=[\n",
    "        \"Paris is the capital of France and also the largest city in the country.\",\n",
    "        \"Lyon is a major city in France.\",\n",
    "    ],\n",
    ")\n",
    "metric = GenerateBasedContextPrecision.from_parameters(model_id=\"openai/gpt-4-turbo-preview\")\n",
    "result = metric.calculate(case)"
   ]
  },
  {
   "cell_type": "code",
   "execution_count": 3,
   "metadata": {},
   "outputs": [
    {
     "data": {
      "text/plain": [
       "PresicionResult(extra={'verifications': [ClassifierOutput(reason=None, label='Yes'), ClassifierOutput(reason=None, label='No')]}, precision=0.5, average_precision=0.75, precision_at_k=[1.0, 0.5])"
      ]
     },
     "execution_count": 3,
     "metadata": {},
     "output_type": "execute_result"
    }
   ],
   "source": [
    "result"
   ]
  },
  {
   "cell_type": "code",
   "execution_count": 3,
   "metadata": {},
   "outputs": [
    {
     "data": {
      "text/plain": [
       "PresicionResult(extra={'verifications': [ClassifierOutput(reason=None, label=\"annotation=Literal['Yes', 'No'] required=True\"), ClassifierOutput(reason=None, label=\"annotation=Literal['Yes', 'No'] required=True\")]}, precision=0.0, average_precision=0.0, precision_at_k=[0.0, 0.0])"
      ]
     },
     "execution_count": 3,
     "metadata": {},
     "output_type": "execute_result"
    }
   ],
   "source": [
    "result"
   ]
  },
  {
   "cell_type": "code",
   "execution_count": null,
   "metadata": {},
   "outputs": [],
   "source": [
    "class Statement(BaseModel):\n",
    "    content: str\n",
    "    weight: float = Field(..., ge=0.0, le=1.0)\n",
    "    reason: str | None = None\n",
    "\n",
    "Statements = RootModel[list[Statement]]"
   ]
  },
  {
   "cell_type": "code",
   "execution_count": null,
   "metadata": {},
   "outputs": [],
   "source": [
    "extractor = RageExtractor(\n",
    "    instruction='提取答案中的声明，根据声明对问题的重要度和帮助性设置权重，并给出理由。',\n",
    "    output_type=Statements,\n",
    ")\n",
    "extractor.inference(\n",
    "    RageCase(\n",
    "        question='What is the largest planet in our Solar System?',\n",
    "        answer='Jupiter is the largest planet in our Solar System and has a giant storm known as the Great Red Spot. Jupiter is closer to the Sun than Earth.'\n",
    "    )\n",
    ")"
   ]
  },
  {
   "cell_type": "code",
   "execution_count": null,
   "metadata": {},
   "outputs": [],
   "source": [
    "DEFAULT_EXAMPLES = [\n",
    "    RageExample[ClassifierOutput](\n",
    "        rage_case=RageCase(\n",
    "            question=\"What are the health benefits of green tea?\",\n",
    "            retrieved_contexts=[\n",
    "                \"This article explores the rich history of tea cultivation in China, tracing its roots back to the ancient dynasties. It discusses how different regions have developed their unique tea varieties and brewing techniques. The article also delves into the cultural significance of tea in Chinese society and how it has become a symbol of hospitality and relaxation.\",\n",
    "            ],\n",
    "        ),\n",
    "        output=ClassifierOutput(\n",
    "            reason=\"The context, while informative about the history and cultural significance of tea in China, does not provide specific information about the health benefits of green tea. Thus, it is not useful for answering the question about health benefits.\",\n",
    "            label=\"No\",\n",
    "        ),\n",
    "    ),\n",
    "    RageExample[ClassifierOutput](\n",
    "        rage_case=RageCase(\n",
    "            question=\"How does photosynthesis work in plants?\",\n",
    "            retrieved_contexts=[\n",
    "                \"Photosynthesis in plants is a complex process involving multiple steps. This paper details how chlorophyll within the chloroplasts absorbs sunlight, which then drives the chemical reaction converting carbon dioxide and water into glucose and oxygen. It explains the role of light and dark reactions and how ATP and NADPH are produced during these processes.\",\n",
    "            ],\n",
    "        ),\n",
    "        output=ClassifierOutput(\n",
    "            reason=\"This context is extremely relevant and useful for answering the question. It directly addresses the mechanisms of photosynthesis, explaining the key components and processes involved.\",\n",
    "            label=\"Yes\",\n",
    "        ),\n",
    "    ),\n",
    "]"
   ]
  },
  {
   "cell_type": "code",
   "execution_count": null,
   "metadata": {},
   "outputs": [],
   "source": [
    "classifier = RageClassifier(\n",
    "    model_id='openai/gpt-4-turbo-preview',\n",
    "    instruction=CONTEXT_PRECISION,\n",
    "    examples=DEFAULT_EXAMPLES,\n",
    "    case_template=SimpleCaseTemplate(),\n",
    "    label_set={'Yes', 'No'},\n",
    ")"
   ]
  },
  {
   "cell_type": "code",
   "execution_count": null,
   "metadata": {},
   "outputs": [],
   "source": [
    "case = RageCase(\n",
    "    question=\"What is the capital of France?\",\n",
    "    retrieved_contexts=[\n",
    "        # \"Paris is the capital of France and also the largest city in the country.\",\n",
    "        \"Lyon is a major city in France.\",\n",
    "    ],\n",
    ")"
   ]
  },
  {
   "cell_type": "code",
   "execution_count": null,
   "metadata": {},
   "outputs": [],
   "source": [
    "from pydantic import BaseModel, RootModel"
   ]
  },
  {
   "cell_type": "code",
   "execution_count": null,
   "metadata": {},
   "outputs": [],
   "source": [
    "class Statement(BaseModel):\n",
    "    content: list[str]\n",
    "    reason: str | None = None\n",
    "\n",
    "Statements = RootModel[list[Statement]]"
   ]
  },
  {
   "cell_type": "code",
   "execution_count": null,
   "metadata": {},
   "outputs": [],
   "source": [
    "Statement.model_json_schema()"
   ]
  },
  {
   "cell_type": "code",
   "execution_count": null,
   "metadata": {},
   "outputs": [],
   "source": [
    "from rich import print\n",
    "\n",
    "\n",
    "print({'$defs': {'Statement': {'properties': {'content': {'items': {'type': 'string'},\n",
    "     'title': 'Content',\n",
    "     'type': 'array'},\n",
    "    'reason': {'anyOf': [{'type': 'string'}, {'type': 'null'}],\n",
    "     'default': None,\n",
    "     'title': 'Reason'}},\n",
    "   'required': ['content'],\n",
    "   'title': 'Statement',\n",
    "   'type': 'object'}},\n",
    " 'items': {'$ref': '#/$defs/Statement'},\n",
    " 'title': 'RootModel[list[Statement]]',\n",
    " 'type': 'array'})"
   ]
  },
  {
   "cell_type": "code",
   "execution_count": null,
   "metadata": {},
   "outputs": [],
   "source": [
    "a = '''\n",
    "dfdsfs\n",
    "```\n",
    "[\n",
    "  {\n",
    "    \"content\": [\n",
    "      \"Jupiter is the largest planet in our Solar System and has a giant storm known as the Great Red Spot.\"\n",
    "    ],\n",
    "    \"reason\": null\n",
    "  },\n",
    "  {\n",
    "    \"content\": [\n",
    "      \"Jupiter is closer to the Sun than Earth.\"\n",
    "    ],\n",
    "    \"reason\": null\n",
    "  }\n",
    "]```'''\n",
    "try:\n",
    "  Statements.model_validate_json(a)\n",
    "except Exception as e:\n",
    "  print(e)"
   ]
  },
  {
   "cell_type": "code",
   "execution_count": null,
   "metadata": {},
   "outputs": [],
   "source": []
  },
  {
   "cell_type": "code",
   "execution_count": null,
   "metadata": {},
   "outputs": [],
   "source": [
    "Statements.model_json_schema()"
   ]
  },
  {
   "cell_type": "code",
   "execution_count": null,
   "metadata": {},
   "outputs": [],
   "source": [
    "from inspect import get_annotations\n",
    "\n",
    "\n",
    "Statements.model_fields['root'].annotation.__dict__"
   ]
  },
  {
   "cell_type": "code",
   "execution_count": null,
   "metadata": {},
   "outputs": [],
   "source": [
    "classifier.inference(case)"
   ]
  },
  {
   "cell_type": "code",
   "execution_count": null,
   "metadata": {},
   "outputs": [],
   "source": [
    "print(classifier.prompt[0].content)"
   ]
  },
  {
   "cell_type": "code",
   "execution_count": null,
   "metadata": {},
   "outputs": [],
   "source": [
    "import re\n",
    "import json\n",
    "\n",
    "def is_valid_json(json_str: str) -> bool:\n",
    "    try:\n",
    "        json.loads(json_str, strict=False)\n",
    "    except json.JSONDecodeError:\n",
    "        return False\n",
    "    return True\n",
    "\n",
    "\n",
    "def extract_json(json_str: str) -> str:\n",
    "    # markdown code pattern\n",
    "    json_code_pattern = r\"```json\\n(.*?)```\"\n",
    "    match = re.search(json_code_pattern, json_str, re.DOTALL)\n",
    "    if match and is_valid_json(match.group(1)):\n",
    "        return match.group(1)\n",
    "    \n",
    "    code_pattern = r\"```(.*?)```\"\n",
    "    match = re.search(code_pattern, json_str, re.DOTALL)\n",
    "    if match and is_valid_json(match.group(1)):\n",
    "        return match.group(1)\n",
    "    \n",
    "    inline_code_pattern = r\"`(.*?)`\"\n",
    "    match = re.search(inline_code_pattern, json_str, re.DOTALL)\n",
    "    if match and is_valid_json(match.group(1)):\n",
    "        return match.group(1)\n",
    "\n",
    "    raise ValueError(f\"Invalid JSON: {json_str}\")\n",
    "\n",
    "\n",
    "def ensure_valid_json(json_str: str) -> str:\n",
    "    if is_valid_json(json_str):\n",
    "        return json_str\n",
    "    else:\n",
    "        return extract_json(json_str)"
   ]
  },
  {
   "cell_type": "code",
   "execution_count": null,
   "metadata": {},
   "outputs": [],
   "source": [
    "test_cases = [\n",
    "    '''抱歉，我之前的回答有误。根据报错信息，输入数据应该是一个有效的数组，而不是一个对象。\n",
    "\n",
    "根据 JSON Schema 的描述，正确的对象应如下所示：\n",
    "\n",
    "```\n",
    "[\n",
    "  {\n",
    "    \"content\": [\n",
    "      \"Jupiter is the largest planet in our Solar System and has a giant storm known as the Great Red Spot.\"\n",
    "    ],\n",
    "    \"reason\": null\n",
    "  },\n",
    "  {\n",
    "    \"content\": [\n",
    "      \"Jupiter is closer to the Sun than Earth.\"\n",
    "    ],\n",
    "    \"reason\": null\n",
    "  }\n",
    "]\n",
    "```\n",
    "这是一个数组，包含两个符合 \"Statement\" 定义的对象。每个对象都有 \"content\" 属性表示内容，以及 \"reason\" 属性表示原因。\n",
    "''',\n",
    "    '''抱歉，我之前的回答有误。根据报错信息，输入数据应该是一个有效的数组，而不是一个对象。\n",
    "\n",
    "根据 JSON Schema 的描述，正确的对象应如下所示：\n",
    "\n",
    "```json\n",
    "[\n",
    "  {\n",
    "    \"content\": [\n",
    "      \"Jupiter is the largest planet in our Solar System and has a giant storm known as the Great Red Spot.\"\n",
    "    ],\n",
    "    \"reason\": null\n",
    "  },\n",
    "  {\n",
    "    \"content\": [\n",
    "      \"Jupiter is closer to the Sun than Earth.\"\n",
    "    ],\n",
    "    \"reason\": null\n",
    "  }\n",
    "]\n",
    "```\n",
    "这是一个数组，包含两个符合 \"Statement\" 定义的对象。每个对象都有 \"content\" 属性表示内容，以及 \"reason\" 属性表示原因。\n",
    "''',\n",
    "'''\n",
    "[\n",
    "  {\n",
    "    \"content\": [\n",
    "      \"Jupiter is the largest planet in our Solar System and has a giant storm known as the Great Red Spot.\"\n",
    "    ],\n",
    "    \"reason\": null\n",
    "  },\n",
    "  {\n",
    "    \"content\": [\n",
    "      \"Jupiter is closer to the Sun than Earth.\"\n",
    "    ],\n",
    "    \"reason\": null\n",
    "  }\n",
    "]\n",
    "''',\n",
    "]"
   ]
  },
  {
   "cell_type": "code",
   "execution_count": null,
   "metadata": {},
   "outputs": [],
   "source": [
    "for test_case in test_cases:\n",
    "    print(ensure_valid_json(test_case))\n",
    "    print('---')"
   ]
  },
  {
   "cell_type": "code",
   "execution_count": 1,
   "metadata": {},
   "outputs": [],
   "source": [
    "from rage.metrics.model_based.faithfulness import LLMBasedFaithfulness"
   ]
  },
  {
   "cell_type": "code",
   "execution_count": null,
   "metadata": {},
   "outputs": [],
   "source": [
    "LLMBasedFaithfulness.from_parameters(ex)"
   ]
  },
  {
   "cell_type": "markdown",
   "metadata": {},
   "source": [
    "for test_case in test_cases:\n",
    "    print(f\"{test_case} -> {solve(test_case)}\")"
   ]
  }
 ],
 "metadata": {
  "kernelspec": {
   "display_name": "py312",
   "language": "python",
   "name": "python3"
  },
  "language_info": {
   "codemirror_mode": {
    "name": "ipython",
    "version": 3
   },
   "file_extension": ".py",
   "mimetype": "text/x-python",
   "name": "python",
   "nbconvert_exporter": "python",
   "pygments_lexer": "ipython3",
   "version": "3.12.1"
  }
 },
 "nbformat": 4,
 "nbformat_minor": 2
}
